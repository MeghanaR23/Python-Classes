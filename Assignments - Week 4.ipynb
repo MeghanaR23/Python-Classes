{
 "cells": [
  {
   "cell_type": "markdown",
   "metadata": {},
   "source": [
    "### Topics: Conditional Statements, Loops, Errors and Exception Hanlding, Functions."
   ]
  },
  {
   "cell_type": "code",
   "execution_count": null,
   "metadata": {},
   "outputs": [],
   "source": []
  },
  {
   "cell_type": "code",
   "execution_count": null,
   "metadata": {},
   "outputs": [],
   "source": []
  },
  {
   "cell_type": "markdown",
   "metadata": {},
   "source": [
    "#### 1. Write a Python Program that takes user's age as input and informs him one of the following based on his age.\n",
    "\n",
    "    - The user yet to get the Voter ID card\n",
    "    - The user is eligible to vote\n",
    "    - The user is not eligible yet to vote\n",
    "    - The user is a senior citizen"
   ]
  },
  {
   "cell_type": "code",
   "execution_count": null,
   "metadata": {},
   "outputs": [],
   "source": []
  },
  {
   "cell_type": "code",
   "execution_count": 31,
   "metadata": {},
   "outputs": [
    {
     "name": "stdout",
     "output_type": "stream",
     "text": [
      "Please enter your age: 60\n",
      "Are you registered to vote(Y/N)?: n\n",
      "You are a Senior Citizen\n",
      "You need to get the Voter ID card.\n"
     ]
    }
   ],
   "source": [
    "def main():\n",
    "\n",
    "    option1= 'You are not eligible to vote.'\n",
    "    option2 = 'You are eligible to vote.'\n",
    "    option3 = 'You need to get the Voter ID card.'\n",
    "    option4='You are a Senior Citizen'\n",
    "\n",
    "\n",
    "    age = int(input('Please enter your age: '))\n",
    "    registration = input('Are you registered to vote(Y/N)?: ')\n",
    "\n",
    "    if age >= 60 :\n",
    "         print(option4)\n",
    "    if age >= 18 :\n",
    "        if registration.upper() == \"Y\":\n",
    "            print(option2)\n",
    "        else:\n",
    "            print(option3)\n",
    "    else:\n",
    "        print(option1)\n",
    "    \n",
    "main()"
   ]
  },
  {
   "cell_type": "code",
   "execution_count": null,
   "metadata": {},
   "outputs": [],
   "source": []
  },
  {
   "cell_type": "code",
   "execution_count": null,
   "metadata": {},
   "outputs": [],
   "source": []
  },
  {
   "cell_type": "code",
   "execution_count": null,
   "metadata": {},
   "outputs": [],
   "source": []
  },
  {
   "cell_type": "markdown",
   "metadata": {},
   "source": [
    "#### 2. Write a Python Program that return all the numbers between 1 and 50 that are divisible by '3' and '7'."
   ]
  },
  {
   "cell_type": "code",
   "execution_count": null,
   "metadata": {},
   "outputs": [],
   "source": []
  },
  {
   "cell_type": "code",
   "execution_count": 28,
   "metadata": {},
   "outputs": [
    {
     "name": "stdout",
     "output_type": "stream",
     "text": [
      "21\n",
      "42\n"
     ]
    }
   ],
   "source": [
    "i = 1\n",
    "\n",
    "while i <= 50:\n",
    "    \n",
    "    if i % 3 == 0 and i % 7 == 0:\n",
    "        print(i)\n",
    "    i += 1"
   ]
  },
  {
   "cell_type": "code",
   "execution_count": null,
   "metadata": {},
   "outputs": [],
   "source": []
  },
  {
   "cell_type": "code",
   "execution_count": null,
   "metadata": {},
   "outputs": [],
   "source": []
  },
  {
   "cell_type": "code",
   "execution_count": null,
   "metadata": {},
   "outputs": [],
   "source": []
  },
  {
   "cell_type": "markdown",
   "metadata": {},
   "source": [
    "#### 3. Write a Python Program to create a list of numbers from 1 to 50 and calculate the sum of all the elements of the list."
   ]
  },
  {
   "cell_type": "code",
   "execution_count": 26,
   "metadata": {
    "scrolled": true
   },
   "outputs": [
    {
     "name": "stdout",
     "output_type": "stream",
     "text": [
      "1\n",
      "3\n",
      "6\n",
      "10\n",
      "15\n",
      "21\n",
      "28\n",
      "36\n",
      "45\n",
      "55\n",
      "66\n",
      "78\n",
      "91\n",
      "105\n",
      "120\n",
      "136\n",
      "153\n",
      "171\n",
      "190\n",
      "210\n",
      "231\n",
      "253\n",
      "276\n",
      "300\n",
      "325\n",
      "351\n",
      "378\n",
      "406\n",
      "435\n",
      "465\n",
      "496\n",
      "528\n",
      "561\n",
      "595\n",
      "630\n",
      "666\n",
      "703\n",
      "741\n",
      "780\n",
      "820\n",
      "861\n",
      "903\n",
      "946\n",
      "990\n",
      "1035\n",
      "1081\n",
      "1128\n",
      "1176\n",
      "1225\n",
      "1275\n"
     ]
    }
   ],
   "source": [
    "mylist = list(range(1,51))\n",
    "list_sum = 0\n",
    "\n",
    "for num in mylist:\n",
    "    list_sum = list_sum + num\n",
    "    \n",
    "    print(list_sum)"
   ]
  },
  {
   "cell_type": "code",
   "execution_count": null,
   "metadata": {},
   "outputs": [],
   "source": []
  },
  {
   "cell_type": "code",
   "execution_count": null,
   "metadata": {},
   "outputs": [],
   "source": []
  },
  {
   "cell_type": "code",
   "execution_count": null,
   "metadata": {},
   "outputs": [],
   "source": []
  },
  {
   "cell_type": "markdown",
   "metadata": {},
   "source": [
    "#### 4. Write a Python Program that prints the numbers from 1 to 50 and displays \" (number) is divisible by 3 and 5\" for the numbers which are divisible by 3 and 5."
   ]
  },
  {
   "cell_type": "code",
   "execution_count": 25,
   "metadata": {},
   "outputs": [
    {
     "name": "stdout",
     "output_type": "stream",
     "text": [
      "1\n",
      "2\n",
      "Number is divisible by 3 and 5 = 3\n",
      "4\n",
      "Number is divisible by 3 and 5 = 5\n",
      "Number is divisible by 3 and 5 = 6\n",
      "7\n",
      "8\n",
      "Number is divisible by 3 and 5 = 9\n",
      "Number is divisible by 3 and 5 = 10\n",
      "11\n",
      "Number is divisible by 3 and 5 = 12\n",
      "13\n",
      "14\n",
      "Number is divisible by 3 and 5 = 15\n",
      "16\n",
      "17\n",
      "Number is divisible by 3 and 5 = 18\n",
      "19\n",
      "Number is divisible by 3 and 5 = 20\n",
      "Number is divisible by 3 and 5 = 21\n",
      "22\n",
      "23\n",
      "Number is divisible by 3 and 5 = 24\n",
      "Number is divisible by 3 and 5 = 25\n",
      "26\n",
      "Number is divisible by 3 and 5 = 27\n",
      "28\n",
      "29\n",
      "Number is divisible by 3 and 5 = 30\n",
      "31\n",
      "32\n",
      "Number is divisible by 3 and 5 = 33\n",
      "34\n",
      "Number is divisible by 3 and 5 = 35\n",
      "Number is divisible by 3 and 5 = 36\n",
      "37\n",
      "38\n",
      "Number is divisible by 3 and 5 = 39\n",
      "Number is divisible by 3 and 5 = 40\n",
      "41\n",
      "Number is divisible by 3 and 5 = 42\n",
      "43\n",
      "44\n",
      "Number is divisible by 3 and 5 = 45\n",
      "46\n",
      "47\n",
      "Number is divisible by 3 and 5 = 48\n",
      "49\n",
      "Number is divisible by 3 and 5 = 50\n"
     ]
    }
   ],
   "source": [
    "mylist = list(range(1,51))\n",
    "for number in mylist:\n",
    "    if number % 3 == 0 or number % 5 == 0:\n",
    "        print(\"Number is divisible by 3 and 5 =\" ,number)\n",
    "    else:\n",
    "        print(f'{number}')"
   ]
  },
  {
   "cell_type": "code",
   "execution_count": null,
   "metadata": {},
   "outputs": [],
   "source": []
  },
  {
   "cell_type": "code",
   "execution_count": null,
   "metadata": {},
   "outputs": [],
   "source": []
  },
  {
   "cell_type": "code",
   "execution_count": null,
   "metadata": {},
   "outputs": [],
   "source": []
  },
  {
   "cell_type": "code",
   "execution_count": null,
   "metadata": {},
   "outputs": [],
   "source": []
  },
  {
   "cell_type": "code",
   "execution_count": null,
   "metadata": {},
   "outputs": [],
   "source": []
  },
  {
   "cell_type": "code",
   "execution_count": null,
   "metadata": {},
   "outputs": [],
   "source": []
  },
  {
   "cell_type": "code",
   "execution_count": null,
   "metadata": {},
   "outputs": [],
   "source": []
  },
  {
   "cell_type": "markdown",
   "metadata": {},
   "source": [
    "#### 5. Write a Python Program that takes the input value of numerator and denominator, and handles Zero Division Error specifically\n",
    "    \n",
    "    Note: Other errors shall be handled in a general sense."
   ]
  },
  {
   "cell_type": "code",
   "execution_count": 24,
   "metadata": {},
   "outputs": [
    {
     "name": "stdout",
     "output_type": "stream",
     "text": [
      "Enter the value for numerator : 0\n",
      "Enter the value for denominator: pradeep\n",
      "\"Nothing can be divided by zero\"\n"
     ]
    }
   ],
   "source": [
    "try:\n",
    "    numerator= int(input(\"Enter the value for numerator : \"))\n",
    "    denominator = int(input(\"Enter the value for denominator: \"))\n",
    "    \n",
    "    print(numerator / denominator  )\n",
    "except:\n",
    "    print('\"Nothing can be divided by zero\"')"
   ]
  },
  {
   "cell_type": "code",
   "execution_count": null,
   "metadata": {},
   "outputs": [],
   "source": []
  },
  {
   "cell_type": "code",
   "execution_count": null,
   "metadata": {},
   "outputs": [],
   "source": []
  },
  {
   "cell_type": "code",
   "execution_count": null,
   "metadata": {},
   "outputs": [],
   "source": []
  },
  {
   "cell_type": "code",
   "execution_count": null,
   "metadata": {},
   "outputs": [],
   "source": []
  },
  {
   "cell_type": "markdown",
   "metadata": {},
   "source": [
    "#### 6. Write a Python Program to convert a normal word to a secret word.\n",
    "\n",
    "The rules are as follows:\n",
    "\n",
    "1. If a word starts with a vowel, add 'yes' to the end.\n",
    "2. If not, put the first letter at the end, then add 'yes'\n",
    "\n",
    "Examples:\n",
    "\n",
    "1. win --> inwyes\n",
    "2. ant --> antyes"
   ]
  },
  {
   "cell_type": "code",
   "execution_count": 35,
   "metadata": {},
   "outputs": [
    {
     "name": "stdout",
     "output_type": "stream",
     "text": [
      "Enter the word: mes\n",
      "esmyes\n"
     ]
    }
   ],
   "source": [
    "my_word = input(\"Enter the word: \")\n",
    "for x in ['a','e','i','o','u']:\n",
    "    if (x == my_word[0]):\n",
    "        print(f'{my_word}yes')\n",
    "        break\n",
    "else:\n",
    "    print(f'{my_word[1:]}{my_word[:1]}yes')"
   ]
  },
  {
   "cell_type": "code",
   "execution_count": null,
   "metadata": {},
   "outputs": [],
   "source": []
  },
  {
   "cell_type": "code",
   "execution_count": null,
   "metadata": {},
   "outputs": [],
   "source": []
  }
 ],
 "metadata": {
  "kernelspec": {
   "display_name": "Python 3",
   "language": "python",
   "name": "python3"
  },
  "language_info": {
   "codemirror_mode": {
    "name": "ipython",
    "version": 3
   },
   "file_extension": ".py",
   "mimetype": "text/x-python",
   "name": "python",
   "nbconvert_exporter": "python",
   "pygments_lexer": "ipython3",
   "version": "3.7.6"
  }
 },
 "nbformat": 4,
 "nbformat_minor": 4
}
